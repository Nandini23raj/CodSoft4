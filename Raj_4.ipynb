{
  "nbformat": 4,
  "nbformat_minor": 0,
  "metadata": {
    "colab": {
      "provenance": []
    },
    "kernelspec": {
      "name": "python3",
      "display_name": "Python 3"
    },
    "language_info": {
      "name": "python"
    }
  },
  "cells": [
    {
      "cell_type": "code",
      "execution_count": 1,
      "metadata": {
        "colab": {
          "base_uri": "https://localhost:8080/"
        },
        "id": "osECF7xY0pHX",
        "outputId": "cd39004f-7782-4a25-cc5b-fa55162f1d82"
      },
      "outputs": [
        {
          "output_type": "stream",
          "name": "stdout",
          "text": [
            "Recommended Movies: 3    Movie D\n",
            "1    Movie B\n",
            "4    Movie E\n",
            "Name: title, dtype: object\n"
          ]
        }
      ],
      "source": [
        "import pandas as pd\n",
        "from sklearn.feature_extraction.text import TfidfVectorizer\n",
        "from sklearn.metrics.pairwise import cosine_similarity\n",
        "\n",
        "# Sample data: Movies with genre, director, and keywords\n",
        "data = {\n",
        "    'movie_id': [1, 2, 3, 4, 5],\n",
        "    'title': ['Movie A', 'Movie B', 'Movie C', 'Movie D', 'Movie E'],\n",
        "    'genre': ['Action, Adventure', 'Action, Comedy', 'Comedy, Drama', 'Action, Thriller', 'Comedy, Romance'],\n",
        "    'director': ['Director X', 'Director Y', 'Director Z', 'Director X', 'Director W'],\n",
        "    'keywords': ['fight, adventure, hero', 'comedy, action, fun', 'romance, drama, life', 'thriller, action, fight', 'comedy, romance, love']\n",
        "}\n",
        "\n",
        "# Convert to DataFrame\n",
        "df = pd.DataFrame(data)\n",
        "\n",
        "# Combine genre, director, and keywords into one string\n",
        "df['description'] = df['genre'] + ' ' + df['director'] + ' ' + df['keywords']\n",
        "\n",
        "# Use TF-IDF Vectorizer to convert text to feature vectors\n",
        "tfidf = TfidfVectorizer(stop_words='english')\n",
        "tfidf_matrix = tfidf.fit_transform(df['description'])\n",
        "\n",
        "# Compute cosine similarity between movies\n",
        "cosine_sim = cosine_similarity(tfidf_matrix, tfidf_matrix)\n",
        "\n",
        "# Function to recommend movies based on a movie liked by the user\n",
        "def recommend_movies(movie_title, cosine_sim=cosine_sim):\n",
        "    # Get index of the movie that matches the title\n",
        "    idx = df[df['title'] == movie_title].index[0]\n",
        "\n",
        "    # Get the pairwise similarity scores for this movie\n",
        "    sim_scores = list(enumerate(cosine_sim[idx]))\n",
        "\n",
        "    # Sort the movies based on similarity scores\n",
        "    sim_scores = sorted(sim_scores, key=lambda x: x[1], reverse=True)\n",
        "\n",
        "    # Get top 3 most similar movies\n",
        "    sim_scores = sim_scores[1:4]  # Skip the first movie (itself)\n",
        "    movie_indices = [i[0] for i in sim_scores]\n",
        "\n",
        "    # Return movie titles\n",
        "    return df['title'].iloc[movie_indices]\n",
        "\n",
        "# Test the recommendation system\n",
        "recommendations = recommend_movies('Movie A')\n",
        "print(\"Recommended Movies:\", recommendations)\n"
      ]
    }
  ]
}